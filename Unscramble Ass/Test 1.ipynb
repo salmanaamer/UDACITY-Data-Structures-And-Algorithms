{
 "cells": [
  {
   "cell_type": "code",
   "execution_count": 1,
   "metadata": {},
   "outputs": [],
   "source": [
    "def smallest_positive(in_list):\n",
    "    # TODO: Define a control structure that finds the smallest positive\n",
    "    # number in in_list and returns the correct smallest number.\n",
    "    \n",
    "    return 0"
   ]
  },
  {
   "cell_type": "code",
   "execution_count": 2,
   "metadata": {},
   "outputs": [],
   "source": [
    "def smallest_positive(in_list):\n",
    "    # TODO: Define a control structure that finds the smallest positive\n",
    "    # number in in_list and returns the correct smallest number.\n",
    "    \n",
    "    return 0"
   ]
  },
  {
   "cell_type": "code",
   "execution_count": 4,
   "metadata": {},
   "outputs": [],
   "source": [
    "def smallest_positive(in_list):\n",
    "    # TODO: Define a control structure that finds the smallest positive\n",
    "    # number in in_list and returns the correct smallest number.\n",
    "    \n",
    "    return 2"
   ]
  },
  {
   "cell_type": "code",
   "execution_count": null,
   "metadata": {},
   "outputs": [],
   "source": [
    "list = [1]"
   ]
  }
 ],
 "metadata": {
  "kernelspec": {
   "display_name": "Python 3",
   "language": "python",
   "name": "python3"
  },
  "language_info": {
   "codemirror_mode": {
    "name": "ipython",
    "version": 3
   },
   "file_extension": ".py",
   "mimetype": "text/x-python",
   "name": "python",
   "nbconvert_exporter": "python",
   "pygments_lexer": "ipython3",
   "version": "3.7.4"
  }
 },
 "nbformat": 4,
 "nbformat_minor": 2
}
